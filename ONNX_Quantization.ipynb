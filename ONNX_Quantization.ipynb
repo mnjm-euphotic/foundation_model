{
 "cells": [
  {
   "cell_type": "code",
   "execution_count": 1,
   "id": "5d9bb0b7-e9b9-491c-8d04-b4a059c1a26f",
   "metadata": {},
   "outputs": [
    {
     "name": "stdout",
     "output_type": "stream",
     "text": [
      "Warning: onnxruntime_tools is deprecated. Use onnxruntime or onnxruntime-gpu instead. For more information, see https://github.com/microsoft/onnxruntime/blob/master/onnxruntime/python/tools/transformers/README.md.\n",
      "\n"
     ]
    }
   ],
   "source": [
    "from onnxruntime_tools import optimizer\n",
    "from onnxruntime_tools.quantization import quantize_static, QuantType\n",
    "import numpy as np"
   ]
  },
  {
   "cell_type": "code",
   "execution_count": 2,
   "id": "cb95b6a2-5474-4875-a0c4-cb8f9fa98383",
   "metadata": {},
   "outputs": [],
   "source": [
    "# model_path = \"./vit_b16_huggingface.onnx\"\n",
    "# quantized_model_path = \"vit_b16_hf_int8.onnx\"\n",
    "# input_name = \"pixel_values\"\n",
    "# input_shape = (1, 3, 224, 224)  # Batch x Channels x Height x Width\n",
    "# num_samples = 10  # Number of random samples for calibration"
   ]
  },
  {
   "cell_type": "code",
   "execution_count": 3,
   "id": "4303eff3-9392-454b-bf4a-8423fe51da5a",
   "metadata": {},
   "outputs": [],
   "source": [
    "# model_path = \"./siglip_base_image_encoder.onnx\"\n",
    "# quantized_model_path = \"siglip_base_img_encoder_int8.onnx\"\n",
    "# input_name = \"pixel_values\"\n",
    "# input_shape = (1, 3, 224, 224)  # Batch x Channels x Height x Width\n",
    "# num_samples = 10  # Number of random samples for calibration"
   ]
  },
  {
   "cell_type": "code",
   "execution_count": 4,
   "id": "a577900f-9bcf-46ce-a1f3-959fece383c3",
   "metadata": {},
   "outputs": [],
   "source": [
    "model_path = \"./mobile_s2_img_encoder.onnx\"\n",
    "quantized_model_path = \"mobile_s2_img_encoder_int8.onnx\"\n",
    "input_name = \"input\"\n",
    "input_shape = (1, 3, 224, 224)  # Batch x Channels x Height x Width\n",
    "num_samples = 10  # Number of random samples for calibration"
   ]
  },
  {
   "cell_type": "code",
   "execution_count": 5,
   "id": "0af3acb2-9112-4675-a6cd-a6ec867793d8",
   "metadata": {},
   "outputs": [],
   "source": [
    "class RandomDataReader:\n",
    "    def __init__(self, num_samples, input_shape):\n",
    "        self.num_samples = num_samples\n",
    "        self.input_shape = input_shape\n",
    "        self.index = 0\n",
    "\n",
    "    def get_next(self):\n",
    "        if self.index < self.num_samples:\n",
    "            # Generate random data for the current sample\n",
    "            random_data = np.random.rand(*self.input_shape).astype(np.float32)\n",
    "            self.index += 1\n",
    "            return {input_name: random_data}  # Replace \"input_name\" with your actual input name\n",
    "        else:\n",
    "            return None"
   ]
  },
  {
   "cell_type": "code",
   "execution_count": 6,
   "id": "018cfd1b-352a-46e1-b56c-d4fcc9434c97",
   "metadata": {},
   "outputs": [],
   "source": [
    "data_reader = RandomDataReader(num_samples, input_shape)"
   ]
  },
  {
   "cell_type": "code",
   "execution_count": 7,
   "id": "556fe66b-0fc9-4ad2-a601-ef1ffc8c724b",
   "metadata": {},
   "outputs": [],
   "source": [
    "quantize_static(model_path, quantized_model_path, data_reader, QuantType.QInt8)"
   ]
  },
  {
   "cell_type": "code",
   "execution_count": null,
   "id": "0862f17f-0014-47d3-abc5-ce94b2b7363e",
   "metadata": {},
   "outputs": [],
   "source": []
  }
 ],
 "metadata": {
  "kernelspec": {
   "display_name": "Python 3 (ipykernel)",
   "language": "python",
   "name": "python3"
  },
  "language_info": {
   "codemirror_mode": {
    "name": "ipython",
    "version": 3
   },
   "file_extension": ".py",
   "mimetype": "text/x-python",
   "name": "python",
   "nbconvert_exporter": "python",
   "pygments_lexer": "ipython3",
   "version": "3.12.3"
  }
 },
 "nbformat": 4,
 "nbformat_minor": 5
}
