{
 "cells": [
  {
   "cell_type": "code",
   "execution_count": null,
   "id": "2dc9bebe-00b9-4dff-bf00-1943c1e3310c",
   "metadata": {},
   "outputs": [
    {
     "name": "stderr",
     "output_type": "stream",
     "text": [
      "2024-11-26 09:26:38.764264: E external/local_xla/xla/stream_executor/cuda/cuda_fft.cc:477] Unable to register cuFFT factory: Attempting to register factory for plugin cuFFT when one has already been registered\n",
      "WARNING: All log messages before absl::InitializeLog() is called are written to STDERR\n",
      "E0000 00:00:1732593398.798775  101701 cuda_dnn.cc:8310] Unable to register cuDNN factory: Attempting to register factory for plugin cuDNN when one has already been registered\n",
      "E0000 00:00:1732593398.808789  101701 cuda_blas.cc:1418] Unable to register cuBLAS factory: Attempting to register factory for plugin cuBLAS when one has already been registered\n"
     ]
    }
   ],
   "source": [
    "import jax\n",
    "import jax.numpy as jnp\n",
    "from matplotlib import pyplot as plt\n",
    "import numpy as np\n",
    "import pandas as pd\n",
    "import tensorflow as tf\n",
    "import tensorflow_datasets as tfds\n",
    "import tqdm\n",
    "import cv2\n",
    "from glob import glob\n",
    "from tqdm.notebook import tqdm\n",
    "from sklearn.metrics import confusion_matrix\n",
    "from vit_jax import models"
   ]
  },
  {
   "cell_type": "code",
   "execution_count": 2,
   "id": "d2b27b92-78f5-4614-9e82-1f9de7cb5eea",
   "metadata": {},
   "outputs": [
    {
     "data": {
      "text/plain": [
       "['LiT-B16B', 'LiT-B16B_2', 'LiT-L16L', 'LiT-L16S', 'LiT-L16Ti']"
      ]
     },
     "execution_count": 2,
     "metadata": {},
     "output_type": "execute_result"
    }
   ],
   "source": [
    "[name for name in models.model_configs.MODEL_CONFIGS if name.startswith('LiT')]"
   ]
  },
  {
   "cell_type": "code",
   "execution_count": 3,
   "id": "40da7b4a-9ed0-4847-a952-184eaec19e78",
   "metadata": {},
   "outputs": [
    {
     "name": "stdout",
     "output_type": "stream",
     "text": [
      "\n",
      "⚠️ Reusing local copy: LiT-B16B.npz\n"
     ]
    },
    {
     "name": "stderr",
     "output_type": "stream",
     "text": [
      "2024-11-26 09:26:46.021463: E external/local_xla/xla/stream_executor/cuda/cuda_driver.cc:152] failed call to cuInit: INTERNAL: CUDA error: Failed call to cuInit: UNKNOWN ERROR (303)\n",
      "2024-11-26 09:26:46.130699: W external/local_tsl/tsl/platform/cloud/google_auth_provider.cc:184] All attempts to get a Google authentication bearer token failed, returning an empty token. Retrieving token from files failed with \"NOT_FOUND: Could not locate the credentials file.\". Retrieving token from GCE failed with \"FAILED_PRECONDITION: Error executing an HTTP request: libcurl code 6 meaning 'Couldn't resolve host name', error details: Could not resolve host: metadata.google.internal\".\n"
     ]
    }
   ],
   "source": [
    "model_name = 'LiT-B16B'\n",
    "\n",
    "lit_model = models.get_model(model_name)\n",
    "# Loading the variables from cloud can take a while the first time...\n",
    "lit_variables = lit_model.load_variables()\n",
    "# Creating tokens from freeform text (see next section).\n",
    "tokenizer = lit_model.get_tokenizer()\n",
    "# Resizing images & converting value range to -1..1 (see next section).\n",
    "image_preprocessing = lit_model.get_image_preprocessing()\n",
    "# Preprocessing op for use in tfds pipeline (see last section).\n",
    "pp = lit_model.get_pp()"
   ]
  },
  {
   "cell_type": "code",
   "execution_count": 4,
   "id": "bc95d036-67d9-4d96-bb30-9b5008ae1dbb",
   "metadata": {},
   "outputs": [
    {
     "name": "stdout",
     "output_type": "stream",
     "text": [
      "LitModel(\n",
      "    # attributes\n",
      "    image = classifier: token\n",
      "    hidden_size: 768\n",
      "    model_name: ViT-B_16\n",
      "    patches:\n",
      "      size: !!python/tuple\n",
      "      - 16\n",
      "      - 16\n",
      "    representation_size: null\n",
      "    transformer:\n",
      "      attention_dropout_rate: 0.0\n",
      "      dropout_rate: 0.0\n",
      "      mlp_dim: 3072\n",
      "      num_heads: 12\n",
      "      num_layers: 12\n",
      "    \n",
      "    text_model = 'bert'\n",
      "    text = config: base\n",
      "    \n",
      "    pp = max_len: 16\n",
      "    size: 224\n",
      "    tokenizer_name: bert\n",
      "    \n",
      "    out_dim = (768, 768)\n",
      "    model_name = 'LiT-B16B'\n",
      ")\n"
     ]
    },
    {
     "data": {
      "text/plain": [
       "vit_jax.models_lit.LitModel"
      ]
     },
     "execution_count": 4,
     "metadata": {},
     "output_type": "execute_result"
    }
   ],
   "source": [
    "print(lit_model)\n",
    "type(lit_model)"
   ]
  },
  {
   "cell_type": "code",
   "execution_count": 5,
   "id": "a792c795-e5a1-4834-b7ae-bca011809e1b",
   "metadata": {},
   "outputs": [
    {
     "data": {
      "text/plain": [
       "(768, 768)"
      ]
     },
     "execution_count": 5,
     "metadata": {},
     "output_type": "execute_result"
    }
   ],
   "source": [
    "lit_model.out_dim"
   ]
  },
  {
   "cell_type": "code",
   "execution_count": 6,
   "id": "4d58a706-65dc-478f-895d-47173ee420a5",
   "metadata": {},
   "outputs": [
    {
     "data": {
      "text/plain": [
       "VisionTransformer(\n",
       "    # attributes\n",
       "    num_classes = 768\n",
       "    patches = size: !!python/tuple\n",
       "    - 16\n",
       "    - 16\n",
       "    \n",
       "    transformer = attention_dropout_rate: 0.0\n",
       "    dropout_rate: 0.0\n",
       "    mlp_dim: 3072\n",
       "    num_heads: 12\n",
       "    num_layers: 12\n",
       "    \n",
       "    hidden_size = 768\n",
       "    resnet = None\n",
       "    representation_size = None\n",
       "    classifier = 'token'\n",
       "    head_bias_init = 0.0\n",
       "    encoder = Encoder\n",
       "    model_name = 'ViT-B_16'\n",
       ")"
      ]
     },
     "execution_count": 6,
     "metadata": {},
     "output_type": "execute_result"
    }
   ],
   "source": [
    "from vit_jax.models_vit import VisionTransformer\n",
    "image_model = VisionTransformer(\n",
    "    **{\n",
    "        **lit_model.image,\n",
    "        'num_classes': lit_model.out_dim[0],\n",
    "    }, name='img'\n",
    ")\n",
    "image_model"
   ]
  },
  {
   "cell_type": "code",
   "execution_count": 7,
   "id": "be94ee92-ebae-487b-b8da-c21c2283c923",
   "metadata": {},
   "outputs": [
    {
     "data": {
      "text/plain": [
       "<tensorflow.python.eager.polymorphic_function.polymorphic_function.Function at 0x702581b11e80>"
      ]
     },
     "execution_count": 7,
     "metadata": {},
     "output_type": "execute_result"
    }
   ],
   "source": [
    "from jax.experimental import jax2tf\n",
    "\n",
    "tf_model = tf.function(jax2tf.convert(image_model), autograph=False)\n",
    "tf_model"
   ]
  },
  {
   "cell_type": "code",
   "execution_count": 8,
   "id": "2cddb6cf-ead7-4b6b-92b6-ca779bc96dbc",
   "metadata": {},
   "outputs": [
    {
     "name": "stdout",
     "output_type": "stream",
     "text": [
      "5537\n"
     ]
    }
   ],
   "source": [
    "dataset = \"/home/mnjm/workspace/clip/dataset/train/*/*.jpg\"\n",
    "imgs_l = glob(dataset)\n",
    "imgs_l = [ x for x in imgs_l if \"cropped\" not in x ]\n",
    "print(len(imgs_l))"
   ]
  },
  {
   "cell_type": "code",
   "execution_count": 9,
   "id": "b7a104cd-dcfe-4d09-95d4-c5f6b27838c1",
   "metadata": {},
   "outputs": [
    {
     "data": {
      "text/plain": [
       "(3, 16)"
      ]
     },
     "execution_count": 9,
     "metadata": {},
     "output_type": "execute_result"
    }
   ],
   "source": [
    "labels = ['raw', 'translucent', 'golden brown']\n",
    "texts = [ f\"{label} chopped onions in a dark pan\" for label in labels ]\n",
    "\n",
    "tokens = tokenizer(texts)\n",
    "tokens.shape"
   ]
  },
  {
   "cell_type": "code",
   "execution_count": 10,
   "id": "37cc2b0f-6068-4b56-aed7-a10c591db300",
   "metadata": {},
   "outputs": [
    {
     "name": "stdout",
     "output_type": "stream",
     "text": [
      "5 [(2560, 1920, 3), (2560, 1920, 3), (2560, 1920, 3), (1920, 2560, 3), (2560, 1920, 3)]\n"
     ]
    }
   ],
   "source": [
    "imgs_np_l = []\n",
    "for img_p in imgs_l[:5]:\n",
    "    img_cv = cv2.imread(img_p)\n",
    "    img_cv = cv2.cvtColor(img_cv, cv2.COLOR_BGR2RGB)\n",
    "    if img_cv.shape[0] == 128 and img_cv.shape[1] == 128: continue\n",
    "    imgs_np_l.append(img_cv)\n",
    "print(len(imgs_np_l), [ imgs_np_l[i].shape for i in range(len(imgs_np_l)) ])"
   ]
  },
  {
   "cell_type": "code",
   "execution_count": 11,
   "id": "02fffc51-09b3-43fe-897f-211cf14093df",
   "metadata": {},
   "outputs": [],
   "source": [
    "images = image_preprocessing(imgs_np_l)"
   ]
  },
  {
   "cell_type": "code",
   "execution_count": 12,
   "id": "edc40eee-a94e-45ef-9e65-0a1737fa6727",
   "metadata": {},
   "outputs": [
    {
     "data": {
      "text/plain": [
       "(5, 224, 224, 3)"
      ]
     },
     "execution_count": 12,
     "metadata": {},
     "output_type": "execute_result"
    }
   ],
   "source": [
    "images.shape"
   ]
  },
  {
   "cell_type": "code",
   "execution_count": 13,
   "id": "02884459-9527-4500-9957-76ad6373b19a",
   "metadata": {},
   "outputs": [],
   "source": [
    "zimg, ztxt, out = lit_model.apply(lit_variables, images=images, tokens=tokens)"
   ]
  },
  {
   "cell_type": "code",
   "execution_count": 14,
   "id": "647bc5a6-c38d-49fe-8463-1d44009d2ba1",
   "metadata": {},
   "outputs": [
    {
     "data": {
      "text/plain": [
       "<matplotlib.image.AxesImage at 0x7024e8349df0>"
      ]
     },
     "execution_count": 14,
     "metadata": {},
     "output_type": "execute_result"
    },
    {
     "data": {
      "image/png": "[encoded data removed]",
      "text/plain": [
       "<Figure size 640x480 with 1 Axes>"
      ]
     },
     "metadata": {},
     "output_type": "display_data"
    }
   ],
   "source": [
    "plt.imshow(ztxt @ zimg.T)"
   ]
  },
  {
   "cell_type": "code",
   "execution_count": 15,
   "id": "905300b5-1363-4f3f-8e2d-6b45ae532709",
   "metadata": {},
   "outputs": [
    {
     "name": "stdout",
     "output_type": "stream",
     "text": [
      "[[1.7339743e-04 9.9802530e-01 1.2153543e-03 4.2027727e-04 1.6562625e-04]\n",
      " [2.5978617e-04 9.9870169e-01 6.9174770e-04 1.8185773e-04 1.6486405e-04]\n",
      " [1.8232186e-05 9.9886680e-01 7.7004719e-04 2.5579840e-04 8.9182628e-05]]\n"
     ]
    },
    {
     "data": {
      "text/html": [
       "<style type=\"text/css\">\n",
       "#T_d6b25_row0_col0, #T_d6b25_row0_col2, #T_d6b25_row0_col3, #T_d6b25_row0_col4, #T_d6b25_row1_col0, #T_d6b25_row1_col2, #T_d6b25_row1_col3, #T_d6b25_row1_col4, #T_d6b25_row2_col0, #T_d6b25_row2_col2, #T_d6b25_row2_col3, #T_d6b25_row2_col4 {\n",
       "  background-color: #f7fcf5;\n",
       "  color: #000000;\n",
       "}\n",
       "#T_d6b25_row0_col1, #T_d6b25_row1_col1, #T_d6b25_row2_col1 {\n",
       "  background-color: #00441b;\n",
       "  color: #f1f1f1;\n",
       "}\n",
       "</style>\n",
       "<table id=\"T_d6b25\">\n",
       "  <thead>\n",
       "    <tr>\n",
       "      <th class=\"blank level0\" >&nbsp;</th>\n",
       "      <th id=\"T_d6b25_level0_col0\" class=\"col_heading level0 col0\" >0</th>\n",
       "      <th id=\"T_d6b25_level0_col1\" class=\"col_heading level0 col1\" >1</th>\n",
       "      <th id=\"T_d6b25_level0_col2\" class=\"col_heading level0 col2\" >2</th>\n",
       "      <th id=\"T_d6b25_level0_col3\" class=\"col_heading level0 col3\" >3</th>\n",
       "      <th id=\"T_d6b25_level0_col4\" class=\"col_heading level0 col4\" >4</th>\n",
       "    </tr>\n",
       "  </thead>\n",
       "  <tbody>\n",
       "    <tr>\n",
       "      <th id=\"T_d6b25_level0_row0\" class=\"row_heading level0 row0\" >raw chopped onions in a dark pan</th>\n",
       "      <td id=\"T_d6b25_row0_col0\" class=\"data row0 col0\" >0.02%</td>\n",
       "      <td id=\"T_d6b25_row0_col1\" class=\"data row0 col1\" >99.80%</td>\n",
       "      <td id=\"T_d6b25_row0_col2\" class=\"data row0 col2\" >0.12%</td>\n",
       "      <td id=\"T_d6b25_row0_col3\" class=\"data row0 col3\" >0.04%</td>\n",
       "      <td id=\"T_d6b25_row0_col4\" class=\"data row0 col4\" >0.02%</td>\n",
       "    </tr>\n",
       "    <tr>\n",
       "      <th id=\"T_d6b25_level0_row1\" class=\"row_heading level0 row1\" >translucent chopped onions in a dark pan</th>\n",
       "      <td id=\"T_d6b25_row1_col0\" class=\"data row1 col0\" >0.03%</td>\n",
       "      <td id=\"T_d6b25_row1_col1\" class=\"data row1 col1\" >99.87%</td>\n",
       "      <td id=\"T_d6b25_row1_col2\" class=\"data row1 col2\" >0.07%</td>\n",
       "      <td id=\"T_d6b25_row1_col3\" class=\"data row1 col3\" >0.02%</td>\n",
       "      <td id=\"T_d6b25_row1_col4\" class=\"data row1 col4\" >0.02%</td>\n",
       "    </tr>\n",
       "    <tr>\n",
       "      <th id=\"T_d6b25_level0_row2\" class=\"row_heading level0 row2\" >golden brown chopped onions in a dark pan</th>\n",
       "      <td id=\"T_d6b25_row2_col0\" class=\"data row2 col0\" >0.00%</td>\n",
       "      <td id=\"T_d6b25_row2_col1\" class=\"data row2 col1\" >99.89%</td>\n",
       "      <td id=\"T_d6b25_row2_col2\" class=\"data row2 col2\" >0.08%</td>\n",
       "      <td id=\"T_d6b25_row2_col3\" class=\"data row2 col3\" >0.03%</td>\n",
       "      <td id=\"T_d6b25_row2_col4\" class=\"data row2 col4\" >0.01%</td>\n",
       "    </tr>\n",
       "  </tbody>\n",
       "</table>\n"
      ],
      "text/plain": [
       "<pandas.io.formats.style.Styler at 0x7024ea37e300>"
      ]
     },
     "execution_count": 15,
     "metadata": {},
     "output_type": "execute_result"
    }
   ],
   "source": [
    "probs = np.array(jax.nn.softmax(out['t'] * ztxt @ zimg.T, axis=1))\n",
    "print(probs)\n",
    "pd.DataFrame(probs, index=texts).style.background_gradient('Greens', vmin=0, vmax=1).format('{:.2%}')"
   ]
  },
  {
   "cell_type": "code",
   "execution_count": 16,
   "id": "ebdbb0a2-e688-42b6-a68d-6dd8f8bae826",
   "metadata": {},
   "outputs": [
    {
     "data": {
      "application/vnd.jupyter.widget-view+json": {
       "model_id": "2e6bb522c51149fda959548decbe854a",
       "version_major": 2,
       "version_minor": 0
      },
      "text/plain": [
       "  0%|          | 0/5537 [00:00<?, ?it/s]"
      ]
     },
     "metadata": {},
     "output_type": "display_data"
    }
   ],
   "source": [
    "t, c = 0, 0\n",
    "true_lbl_l, pred_lbl_l = [], []\n",
    "import os\n",
    "for img_p in tqdm(imgs_l):\n",
    "    img_cv = cv2.imread(img_p)\n",
    "    img_cv = cv2.cvtColor(img_cv, cv2.COLOR_BGR2RGB)\n",
    "    if img_cv.shape[0] == 128 and img_cv.shape[1] == 128: continue\n",
    "    images = image_preprocessing( [ img_cv ] )\n",
    "    # print(images.shape, np.min(images), np.max(images))\n",
    "    zimg, ztxt, out = lit_model.apply(lit_variables, images=images, tokens=tokens)\n",
    "    t += 1\n",
    "    probs = (ztxt @ zimg.T).reshape(-1)\n",
    "    probs = np.exp(probs) / np.sum(np.exp(probs))\n",
    "    assert len(probs) == len(labels)\n",
    "    # print(probs)\n",
    "    score = np.max(probs) * 100.0\n",
    "    pred_lbl = np.argmax(probs)\n",
    "    true_lbl = int(img_p.split(os.path.sep)[-2])\n",
    "    true_lbl_l.append(true_lbl)\n",
    "    pred_lbl_l.append(pred_lbl)\n",
    "    if true_lbl != pred_lbl:\n",
    "        c += 1\n",
    "        # plt.title(f\"{labels[pred_lbl]}({score:.2f}) (True: {labels[true_lbl]})\")\n",
    "        # plt.imshow(img_cv)\n",
    "        # plt.show()"
   ]
  },
  {
   "cell_type": "code",
   "execution_count": 17,
   "id": "edd0a17b-b6fd-41ac-b827-29b6bfa7120d",
   "metadata": {},
   "outputs": [
    {
     "name": "stdout",
     "output_type": "stream",
     "text": [
      "2903/5536\n"
     ]
    },
    {
     "data": {
      "text/plain": [
       "array([[  78, 1314,    0],\n",
       "       [ 177, 2119,   27],\n",
       "       [  50, 1335,  436]])"
      ]
     },
     "execution_count": 17,
     "metadata": {},
     "output_type": "execute_result"
    }
   ],
   "source": [
    "print(f\"{c}/{t}\")\n",
    "assert len(true_lbl_l) == len(pred_lbl_l)\n",
    "confusion_matrix(true_lbl_l, pred_lbl_l)"
   ]
  },
  {
   "cell_type": "code",
   "execution_count": null,
   "id": "040670ff-45bd-42df-916a-ded9113b367a",
   "metadata": {},
   "outputs": [],
   "source": []
  }
 ],
 "metadata": {
  "kernelspec": {
   "display_name": "Python 3 (ipykernel)",
   "language": "python",
   "name": "python3"
  },
  "language_info": {
   "codemirror_mode": {
    "name": "ipython",
    "version": 3
   },
   "file_extension": ".py",
   "mimetype": "text/x-python",
   "name": "python",
   "nbconvert_exporter": "python",
   "pygments_lexer": "ipython3",
   "version": "3.12.3"
  }
 },
 "nbformat": 4,
 "nbformat_minor": 5
}
